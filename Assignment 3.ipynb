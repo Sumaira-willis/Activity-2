{
  "nbformat": 4,
  "nbformat_minor": 0,
  "metadata": {
    "colab": {
      "provenance": [],
      "toc_visible": true,
      "authorship_tag": "ABX9TyPvAJyq0x8gYbvlRfNdwF98",
      "include_colab_link": true
    },
    "kernelspec": {
      "name": "python3",
      "display_name": "Python 3"
    },
    "language_info": {
      "name": "python"
    }
  },
  "cells": [
    {
      "cell_type": "markdown",
      "metadata": {
        "id": "view-in-github",
        "colab_type": "text"
      },
      "source": [
        "<a href=\"https://colab.research.google.com/github/Sumaira-willis/Activity-2/blob/main/Assignment%203.ipynb\" target=\"_parent\"><img src=\"https://colab.research.google.com/assets/colab-badge.svg\" alt=\"Open In Colab\"/></a>"
      ]
    },
    {
      "cell_type": "code",
      "execution_count": 2,
      "metadata": {
        "colab": {
          "base_uri": "https://localhost:8080/"
        },
        "id": "3Lfyv0Llw-Ge",
        "outputId": "47e035a1-4d38-48ca-f462-524d743270d5"
      },
      "outputs": [
        {
          "output_type": "stream",
          "name": "stdout",
          "text": [
            "Requirement already satisfied: requests in /usr/local/lib/python3.12/dist-packages (2.32.4)\n",
            "Requirement already satisfied: charset_normalizer<4,>=2 in /usr/local/lib/python3.12/dist-packages (from requests) (3.4.4)\n",
            "Requirement already satisfied: idna<4,>=2.5 in /usr/local/lib/python3.12/dist-packages (from requests) (3.11)\n",
            "Requirement already satisfied: urllib3<3,>=1.21.1 in /usr/local/lib/python3.12/dist-packages (from requests) (2.5.0)\n",
            "Requirement already satisfied: certifi>=2017.4.17 in /usr/local/lib/python3.12/dist-packages (from requests) (2025.10.5)\n",
            "Book: Python Programming, Quantity: 5, Price: $29.99, Available: True\n"
          ]
        }
      ],
      "source": [
        "# Python Library Management System\n",
        "\n",
        "# Install required libraries (This should already exist in colab)\n",
        "!pip install requests\n",
        "\n",
        "import pickle\n",
        "import sqlite3\n",
        "import requests\n",
        "\n",
        "# 1. Data Types and Variables\n",
        "book_title = \"Python Programming\"\n",
        "book_quantity = 5\n",
        "book_price = 29.99\n",
        "is_available = True\n",
        "\n",
        "print(f\"Book: {book_title}, Quantity: {book_quantity}, Price: ${book_price}, Available: {is_available}\")\n",
        "\n",
        "# 2. Lists\n",
        "books = [\"Python Basics\", \"Advanced Python\", \"Data Science with Python\"]"
      ]
    },
    {
      "cell_type": "code",
      "source": [
        "# TODO: Add two more books to the list\n",
        "books.append(\"Machine Learning Essentials\")\n",
        "books.insert(1, \"Flask Web Development\")  # Insert at index 1\n",
        "books.append(\"Deep Learning with Python\")  # Another book\n",
        "\n",
        "print(\"Updated book list:\", books)"
      ],
      "metadata": {
        "colab": {
          "base_uri": "https://localhost:8080/"
        },
        "id": "sttGDnhVxIa8",
        "outputId": "75d4b251-67cd-4ce1-d3f5-87ca4272ba64"
      },
      "execution_count": 3,
      "outputs": [
        {
          "output_type": "stream",
          "name": "stdout",
          "text": [
            "Updated book list: ['Python Basics', 'Flask Web Development', 'Advanced Python', 'Data Science with Python', 'Machine Learning Essentials', 'Deep Learning with Python']\n"
          ]
        }
      ]
    },
    {
      "cell_type": "code",
      "source": [
        "# 3. Loops and range()\n",
        "# print(\"\\nAvailable books:\")\n",
        "# TODO: Use a for loop and range() to print books with their indices\n",
        "print(\"\\nAvailable books:\")\n",
        "for i in range(len(books)):\n",
        "    print(f\"{i}: {books[i]}\")\n",
        "\n"
      ],
      "metadata": {
        "colab": {
          "base_uri": "https://localhost:8080/"
        },
        "id": "tI6M2KRGxXZ7",
        "outputId": "4bc44a78-d7ea-48e1-c7f9-18f761adb46e"
      },
      "execution_count": 4,
      "outputs": [
        {
          "output_type": "stream",
          "name": "stdout",
          "text": [
            "\n",
            "Available books:\n",
            "0: Python Basics\n",
            "1: Flask Web Development\n",
            "2: Advanced Python\n",
            "3: Data Science with Python\n",
            "4: Machine Learning Essentials\n",
            "5: Deep Learning with Python\n"
          ]
        }
      ]
    },
    {
      "cell_type": "code",
      "source": [
        "# 4. User Input\n",
        "new_book = input(\"Enter a new book title: \")\n",
        "books.append(new_book)\n",
        "print(\"Updated book list:\", books)\n",
        "\n"
      ],
      "metadata": {
        "id": "gTvkp48-xb3j"
      },
      "execution_count": null,
      "outputs": []
    },
    {
      "cell_type": "code",
      "source": [
        "# 5. Functions and Conditional Statements\n",
        "def check_availability(book_name):\n",
        "    if book_name in books:\n",
        "        return True\n",
        "    else:\n",
        "        return False\n",
        "\n",
        "# Test the function\n",
        "print(f\"Is 'Python Basics' available? {check_availability('Python Basics')}\")"
      ],
      "metadata": {
        "colab": {
          "base_uri": "https://localhost:8080/"
        },
        "id": "DQ1XJtZKxg5j",
        "outputId": "ece317ee-4967-4acd-aac4-dc1ec711902f"
      },
      "execution_count": 5,
      "outputs": [
        {
          "output_type": "stream",
          "name": "stdout",
          "text": [
            "Is 'Python Basics' available? True\n"
          ]
        }
      ]
    },
    {
      "cell_type": "code",
      "source": [
        "# 6. File I/O\n",
        "def save_books_to_file(filename):\n",
        "    with open(filename, 'w') as f:\n",
        "        for book in books:\n",
        "            f.write(f\"{book}\\n\")\n",
        "\n",
        "# TODO: Implement a function to read books from a file\n",
        "# def read_books_from_file(filename):\n",
        "def read_books_from_file(filename):\n",
        "    try:\n",
        "        with open(filename, 'r') as f:\n",
        "            return [line.strip() for line in f.readlines()]\n",
        "    except FileNotFoundError:\n",
        "        print(\"File not found.\")\n",
        "        return []\n",
        "\n",
        "# Test reading from file\n",
        "loaded_books = read_books_from_file(\"books.txt\")\n",
        "print(\"Books read from file:\", loaded_books)\n",
        "# Test file I/O\n",
        "save_books_to_file(\"books.txt\")\n",
        "!cat books.txt  # Display file contents in Colab\n",
        "\n",
        "\n"
      ],
      "metadata": {
        "colab": {
          "base_uri": "https://localhost:8080/"
        },
        "id": "OWBMHm7Gxl1E",
        "outputId": "70a6d5ea-eef8-4697-b355-30a73c0ebf80"
      },
      "execution_count": 6,
      "outputs": [
        {
          "output_type": "stream",
          "name": "stdout",
          "text": [
            "File not found.\n",
            "Books read from file: []\n",
            "Python Basics\n",
            "Flask Web Development\n",
            "Advanced Python\n",
            "Data Science with Python\n",
            "Machine Learning Essentials\n",
            "Deep Learning with Python\n"
          ]
        }
      ]
    },
    {
      "cell_type": "code",
      "source": [
        "# 7. Pickle for serialization\n",
        "def save_books_pickle(filename):\n",
        "    with open(filename, 'wb') as f:\n",
        "        pickle.dump(books, f)\n",
        "\n",
        "save_books_pickle(\"books.pkl\")"
      ],
      "metadata": {
        "id": "udNeCk32xqmD"
      },
      "execution_count": 14,
      "outputs": []
    },
    {
      "cell_type": "code",
      "source": [
        "import os\n",
        "print(\"books.pkl exists:\", os.path.exists(\"books.pkl\"))\n"
      ],
      "metadata": {
        "colab": {
          "base_uri": "https://localhost:8080/"
        },
        "id": "1ICYIa_l2HoM",
        "outputId": "b7be8dcb-edb9-4346-c809-1c1d3d53754f"
      },
      "execution_count": 15,
      "outputs": [
        {
          "output_type": "stream",
          "name": "stdout",
          "text": [
            "books.pkl exists: True\n"
          ]
        }
      ]
    },
    {
      "cell_type": "code",
      "source": [
        "def load_books_pickle(filename):\n",
        "    try:\n",
        "        with open(filename, 'rb') as f:\n",
        "            return pickle.load(f)\n",
        "    except Exception as e:\n",
        "        print(\"Error loading pickle file:\", e)\n",
        "        return []\n",
        "\n",
        "print(\"Books loaded from pickle:\", load_books_pickle(\"books.pkl\"))\n"
      ],
      "metadata": {
        "colab": {
          "base_uri": "https://localhost:8080/"
        },
        "id": "glDG1VKd2Nnn",
        "outputId": "9b2e155f-78a2-4203-ab76-19be8a8a4a22"
      },
      "execution_count": 16,
      "outputs": [
        {
          "output_type": "stream",
          "name": "stdout",
          "text": [
            "Books loaded from pickle: ['Python Basics', 'Flask Web Development', 'Advanced Python', 'Data Science with Python', 'Machine Learning Essentials', 'Deep Learning with Python']\n"
          ]
        }
      ]
    },
    {
      "cell_type": "code",
      "source": [
        "def create_books_table():\n",
        "    conn = sqlite3.connect('library.db')\n",
        "    cursor = conn.cursor()\n",
        "    cursor.execute('''CREATE TABLE IF NOT EXISTS books\n",
        "                      (id INTEGER PRIMARY KEY, title TEXT, quantity INTEGER)''')\n",
        "    conn.commit()\n",
        "    conn.close()\n"
      ],
      "metadata": {
        "id": "ZMV7OeF_24zl"
      },
      "execution_count": 18,
      "outputs": []
    },
    {
      "cell_type": "code",
      "source": [
        "create_books_table()\n"
      ],
      "metadata": {
        "id": "McRXjrB_3E_Q"
      },
      "execution_count": 20,
      "outputs": []
    },
    {
      "cell_type": "code",
      "source": [
        "# 8. SQLite Database Interaction\n",
        "def add_book_to_db(title, quantity):\n",
        "    try:\n",
        "        conn = sqlite3.connect('library.db')\n",
        "        cursor = conn.cursor()\n",
        "        cursor.execute(\"INSERT INTO books (title, quantity) VALUES (?, ?)\", (title, quantity))\n",
        "        conn.commit()\n",
        "        conn.close()\n",
        "        print(f\"Book '{title}' added to database.\")\n",
        "    except sqlite3.Error as e:\n",
        "        print(\"Database error:\", e)\n",
        "\n",
        "# Test database insertion\n",
        "add_book_to_db(\"Python for Beginners\", 10)\n",
        "\n"
      ],
      "metadata": {
        "colab": {
          "base_uri": "https://localhost:8080/"
        },
        "id": "G9jmLRCJxuyz",
        "outputId": "49053896-41af-4795-9afc-3b1b772980e9"
      },
      "execution_count": 21,
      "outputs": [
        {
          "output_type": "stream",
          "name": "stdout",
          "text": [
            "Book 'Python for Beginners' added to database.\n"
          ]
        }
      ]
    },
    {
      "cell_type": "code",
      "source": [
        "# 9. Web API Interaction (GitHub API)\n",
        "def get_python_repos():\n",
        "    url = \"https://api.github.com/search/repositories\"\n",
        "    params = {\"q\": \"language:python\", \"sort\": \"stars\", \"order\": \"desc\"}\n",
        "    response = requests.get(url, params=params)\n",
        "    data = response.json()\n",
        "    return [repo['name'] for repo in data['items'][:5]]\n",
        "\n",
        "# Test API function\n",
        "print(\"Top 5 Python repositories on GitHub:\", get_python_repos())\n",
        "\n",
        "print(\"\\nLibrary Management System operations completed.\")"
      ],
      "metadata": {
        "colab": {
          "base_uri": "https://localhost:8080/"
        },
        "id": "kI9-jhgXx2Gk",
        "outputId": "59ca1b05-d48c-4a28-d283-3be5b8670812"
      },
      "execution_count": 22,
      "outputs": [
        {
          "output_type": "stream",
          "name": "stdout",
          "text": [
            "Top 5 Python repositories on GitHub: ['free-programming-books', 'public-apis', 'system-design-primer', 'awesome-python', 'Python']\n",
            "\n",
            "Library Management System operations completed.\n"
          ]
        }
      ]
    }
  ]
}